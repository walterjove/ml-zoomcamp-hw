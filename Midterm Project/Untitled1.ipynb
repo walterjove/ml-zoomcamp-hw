{
 "cells": [
  {
   "cell_type": "code",
   "execution_count": 1,
   "id": "e41260be-6b3c-436b-84ff-57edb1ca3711",
   "metadata": {},
   "outputs": [],
   "source": [
    "import geopandas as gpd\n",
    "import pandas as pd\n",
    "import folium\n",
    "from shapely import wkt"
   ]
  },
  {
   "cell_type": "code",
   "execution_count": null,
   "id": "d5fa4d62-a98b-437e-a50c-45a76029ffa3",
   "metadata": {},
   "outputs": [],
   "source": [
    "\n",
    "# Provide the correct path to your CSV or GeoJSON file\n",
    "file_path = \"/workspaces/ml-zoomcamp-hw/NationalCSB_2016-2023_rev23/CSB1623.gdb\"  # Replace with your actual file path\n",
    "layer_name = \"your_layer_name\"\n",
    "\n",
    "# Read the layer from the .gdb file\n",
    "gdf = gpd.read_file(file_path, driver=\"FileGDB\", layer=0)\n",
    "\n",
    "# Now you can work with the GeoDataFrame 'gdf'\n",
    "print(gdf.head()) "
   ]
  }
 ],
 "metadata": {
  "kernelspec": {
   "display_name": "Python 3 (ipykernel)",
   "language": "python",
   "name": "python3"
  },
  "language_info": {
   "codemirror_mode": {
    "name": "ipython",
    "version": 3
   },
   "file_extension": ".py",
   "mimetype": "text/x-python",
   "name": "python",
   "nbconvert_exporter": "python",
   "pygments_lexer": "ipython3",
   "version": "3.12.7"
  }
 },
 "nbformat": 4,
 "nbformat_minor": 5
}
